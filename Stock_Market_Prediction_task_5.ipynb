{
  "nbformat": 4,
  "nbformat_minor": 0,
  "metadata": {
    "colab": {
      "provenance": []
    },
    "kernelspec": {
      "name": "python3",
      "display_name": "Python 3"
    },
    "language_info": {
      "name": "python"
    }
  },
  "cells": [
    {
      "cell_type": "markdown",
      "source": [
        "#Name of project- stock market prediction\n",
        "\n",
        "#description-\n",
        "\n",
        "for most stock investors, the favorite question is \"how long should we hold a stock for?\". every investor wants to know how not to act too fearful and too greedy. and not all of them have warren buffet to guide them at every step. i'd suggest that you stop looking for him. rather, build your stock market predictor with artificial intelligence tools like machine learning. and the approach to this is so simple that you can consider adding this to your data science projects list."
      ],
      "metadata": {
        "id": "lY8KQSbRikhZ"
      }
    },
    {
      "cell_type": "code",
      "execution_count": 1,
      "metadata": {
        "id": "-UW-mtC7hpBT"
      },
      "outputs": [],
      "source": [
        "# importing packages\n",
        "\n",
        "import pandas as pd\n",
        "import numpy as np\n",
        "import matplotlib.pyplot as plt\n",
        "from sklearn.preprocessing import MinMaxScaler"
      ]
    },
    {
      "cell_type": "code",
      "source": [
        "# Load Data\n",
        "\n",
        "df = pd.read_csv(\"/content/stock_prices.csv\")"
      ],
      "metadata": {
        "id": "oAlWNxK4iyAp"
      },
      "execution_count": 2,
      "outputs": []
    },
    {
      "cell_type": "code",
      "source": [
        "df.head()"
      ],
      "metadata": {
        "colab": {
          "base_uri": "https://localhost:8080/",
          "height": 206
        },
        "id": "xAFZf5-tjFR1",
        "outputId": "063b8b3b-382f-47d0-b077-121b997e544e"
      },
      "execution_count": 3,
      "outputs": [
        {
          "output_type": "execute_result",
          "data": {
            "text/plain": [
              "         Date     Open     High      Low    Close    Volume  OpenInt Stock\n",
              "0  1984-09-07  0.42388  0.42902  0.41874  0.42388  23220030        0  AAPL\n",
              "1  1984-09-10  0.42388  0.42516  0.41366  0.42134  18022532        0  AAPL\n",
              "2  1984-09-11  0.42516  0.43668  0.42516  0.42902  42498199        0  AAPL\n",
              "3  1984-09-12  0.42902  0.43157  0.41618  0.41618  37125801        0  AAPL\n",
              "4  1984-09-13  0.43927  0.44052  0.43927  0.43927  57822062        0  AAPL"
            ],
            "text/html": [
              "\n",
              "  <div id=\"df-7369573a-43c1-4a35-b32c-f32ea02f748f\" class=\"colab-df-container\">\n",
              "    <div>\n",
              "<style scoped>\n",
              "    .dataframe tbody tr th:only-of-type {\n",
              "        vertical-align: middle;\n",
              "    }\n",
              "\n",
              "    .dataframe tbody tr th {\n",
              "        vertical-align: top;\n",
              "    }\n",
              "\n",
              "    .dataframe thead th {\n",
              "        text-align: right;\n",
              "    }\n",
              "</style>\n",
              "<table border=\"1\" class=\"dataframe\">\n",
              "  <thead>\n",
              "    <tr style=\"text-align: right;\">\n",
              "      <th></th>\n",
              "      <th>Date</th>\n",
              "      <th>Open</th>\n",
              "      <th>High</th>\n",
              "      <th>Low</th>\n",
              "      <th>Close</th>\n",
              "      <th>Volume</th>\n",
              "      <th>OpenInt</th>\n",
              "      <th>Stock</th>\n",
              "    </tr>\n",
              "  </thead>\n",
              "  <tbody>\n",
              "    <tr>\n",
              "      <th>0</th>\n",
              "      <td>1984-09-07</td>\n",
              "      <td>0.42388</td>\n",
              "      <td>0.42902</td>\n",
              "      <td>0.41874</td>\n",
              "      <td>0.42388</td>\n",
              "      <td>23220030</td>\n",
              "      <td>0</td>\n",
              "      <td>AAPL</td>\n",
              "    </tr>\n",
              "    <tr>\n",
              "      <th>1</th>\n",
              "      <td>1984-09-10</td>\n",
              "      <td>0.42388</td>\n",
              "      <td>0.42516</td>\n",
              "      <td>0.41366</td>\n",
              "      <td>0.42134</td>\n",
              "      <td>18022532</td>\n",
              "      <td>0</td>\n",
              "      <td>AAPL</td>\n",
              "    </tr>\n",
              "    <tr>\n",
              "      <th>2</th>\n",
              "      <td>1984-09-11</td>\n",
              "      <td>0.42516</td>\n",
              "      <td>0.43668</td>\n",
              "      <td>0.42516</td>\n",
              "      <td>0.42902</td>\n",
              "      <td>42498199</td>\n",
              "      <td>0</td>\n",
              "      <td>AAPL</td>\n",
              "    </tr>\n",
              "    <tr>\n",
              "      <th>3</th>\n",
              "      <td>1984-09-12</td>\n",
              "      <td>0.42902</td>\n",
              "      <td>0.43157</td>\n",
              "      <td>0.41618</td>\n",
              "      <td>0.41618</td>\n",
              "      <td>37125801</td>\n",
              "      <td>0</td>\n",
              "      <td>AAPL</td>\n",
              "    </tr>\n",
              "    <tr>\n",
              "      <th>4</th>\n",
              "      <td>1984-09-13</td>\n",
              "      <td>0.43927</td>\n",
              "      <td>0.44052</td>\n",
              "      <td>0.43927</td>\n",
              "      <td>0.43927</td>\n",
              "      <td>57822062</td>\n",
              "      <td>0</td>\n",
              "      <td>AAPL</td>\n",
              "    </tr>\n",
              "  </tbody>\n",
              "</table>\n",
              "</div>\n",
              "    <div class=\"colab-df-buttons\">\n",
              "\n",
              "  <div class=\"colab-df-container\">\n",
              "    <button class=\"colab-df-convert\" onclick=\"convertToInteractive('df-7369573a-43c1-4a35-b32c-f32ea02f748f')\"\n",
              "            title=\"Convert this dataframe to an interactive table.\"\n",
              "            style=\"display:none;\">\n",
              "\n",
              "  <svg xmlns=\"http://www.w3.org/2000/svg\" height=\"24px\" viewBox=\"0 -960 960 960\">\n",
              "    <path d=\"M120-120v-720h720v720H120Zm60-500h600v-160H180v160Zm220 220h160v-160H400v160Zm0 220h160v-160H400v160ZM180-400h160v-160H180v160Zm440 0h160v-160H620v160ZM180-180h160v-160H180v160Zm440 0h160v-160H620v160Z\"/>\n",
              "  </svg>\n",
              "    </button>\n",
              "\n",
              "  <style>\n",
              "    .colab-df-container {\n",
              "      display:flex;\n",
              "      gap: 12px;\n",
              "    }\n",
              "\n",
              "    .colab-df-convert {\n",
              "      background-color: #E8F0FE;\n",
              "      border: none;\n",
              "      border-radius: 50%;\n",
              "      cursor: pointer;\n",
              "      display: none;\n",
              "      fill: #1967D2;\n",
              "      height: 32px;\n",
              "      padding: 0 0 0 0;\n",
              "      width: 32px;\n",
              "    }\n",
              "\n",
              "    .colab-df-convert:hover {\n",
              "      background-color: #E2EBFA;\n",
              "      box-shadow: 0px 1px 2px rgba(60, 64, 67, 0.3), 0px 1px 3px 1px rgba(60, 64, 67, 0.15);\n",
              "      fill: #174EA6;\n",
              "    }\n",
              "\n",
              "    .colab-df-buttons div {\n",
              "      margin-bottom: 4px;\n",
              "    }\n",
              "\n",
              "    [theme=dark] .colab-df-convert {\n",
              "      background-color: #3B4455;\n",
              "      fill: #D2E3FC;\n",
              "    }\n",
              "\n",
              "    [theme=dark] .colab-df-convert:hover {\n",
              "      background-color: #434B5C;\n",
              "      box-shadow: 0px 1px 3px 1px rgba(0, 0, 0, 0.15);\n",
              "      filter: drop-shadow(0px 1px 2px rgba(0, 0, 0, 0.3));\n",
              "      fill: #FFFFFF;\n",
              "    }\n",
              "  </style>\n",
              "\n",
              "    <script>\n",
              "      const buttonEl =\n",
              "        document.querySelector('#df-7369573a-43c1-4a35-b32c-f32ea02f748f button.colab-df-convert');\n",
              "      buttonEl.style.display =\n",
              "        google.colab.kernel.accessAllowed ? 'block' : 'none';\n",
              "\n",
              "      async function convertToInteractive(key) {\n",
              "        const element = document.querySelector('#df-7369573a-43c1-4a35-b32c-f32ea02f748f');\n",
              "        const dataTable =\n",
              "          await google.colab.kernel.invokeFunction('convertToInteractive',\n",
              "                                                    [key], {});\n",
              "        if (!dataTable) return;\n",
              "\n",
              "        const docLinkHtml = 'Like what you see? Visit the ' +\n",
              "          '<a target=\"_blank\" href=https://colab.research.google.com/notebooks/data_table.ipynb>data table notebook</a>'\n",
              "          + ' to learn more about interactive tables.';\n",
              "        element.innerHTML = '';\n",
              "        dataTable['output_type'] = 'display_data';\n",
              "        await google.colab.output.renderOutput(dataTable, element);\n",
              "        const docLink = document.createElement('div');\n",
              "        docLink.innerHTML = docLinkHtml;\n",
              "        element.appendChild(docLink);\n",
              "      }\n",
              "    </script>\n",
              "  </div>\n",
              "\n",
              "\n",
              "<div id=\"df-ec0fd367-e114-483d-92dc-94e43ba7cda2\">\n",
              "  <button class=\"colab-df-quickchart\" onclick=\"quickchart('df-ec0fd367-e114-483d-92dc-94e43ba7cda2')\"\n",
              "            title=\"Suggest charts.\"\n",
              "            style=\"display:none;\">\n",
              "\n",
              "<svg xmlns=\"http://www.w3.org/2000/svg\" height=\"24px\"viewBox=\"0 0 24 24\"\n",
              "     width=\"24px\">\n",
              "    <g>\n",
              "        <path d=\"M19 3H5c-1.1 0-2 .9-2 2v14c0 1.1.9 2 2 2h14c1.1 0 2-.9 2-2V5c0-1.1-.9-2-2-2zM9 17H7v-7h2v7zm4 0h-2V7h2v10zm4 0h-2v-4h2v4z\"/>\n",
              "    </g>\n",
              "</svg>\n",
              "  </button>\n",
              "\n",
              "<style>\n",
              "  .colab-df-quickchart {\n",
              "      --bg-color: #E8F0FE;\n",
              "      --fill-color: #1967D2;\n",
              "      --hover-bg-color: #E2EBFA;\n",
              "      --hover-fill-color: #174EA6;\n",
              "      --disabled-fill-color: #AAA;\n",
              "      --disabled-bg-color: #DDD;\n",
              "  }\n",
              "\n",
              "  [theme=dark] .colab-df-quickchart {\n",
              "      --bg-color: #3B4455;\n",
              "      --fill-color: #D2E3FC;\n",
              "      --hover-bg-color: #434B5C;\n",
              "      --hover-fill-color: #FFFFFF;\n",
              "      --disabled-bg-color: #3B4455;\n",
              "      --disabled-fill-color: #666;\n",
              "  }\n",
              "\n",
              "  .colab-df-quickchart {\n",
              "    background-color: var(--bg-color);\n",
              "    border: none;\n",
              "    border-radius: 50%;\n",
              "    cursor: pointer;\n",
              "    display: none;\n",
              "    fill: var(--fill-color);\n",
              "    height: 32px;\n",
              "    padding: 0;\n",
              "    width: 32px;\n",
              "  }\n",
              "\n",
              "  .colab-df-quickchart:hover {\n",
              "    background-color: var(--hover-bg-color);\n",
              "    box-shadow: 0 1px 2px rgba(60, 64, 67, 0.3), 0 1px 3px 1px rgba(60, 64, 67, 0.15);\n",
              "    fill: var(--button-hover-fill-color);\n",
              "  }\n",
              "\n",
              "  .colab-df-quickchart-complete:disabled,\n",
              "  .colab-df-quickchart-complete:disabled:hover {\n",
              "    background-color: var(--disabled-bg-color);\n",
              "    fill: var(--disabled-fill-color);\n",
              "    box-shadow: none;\n",
              "  }\n",
              "\n",
              "  .colab-df-spinner {\n",
              "    border: 2px solid var(--fill-color);\n",
              "    border-color: transparent;\n",
              "    border-bottom-color: var(--fill-color);\n",
              "    animation:\n",
              "      spin 1s steps(1) infinite;\n",
              "  }\n",
              "\n",
              "  @keyframes spin {\n",
              "    0% {\n",
              "      border-color: transparent;\n",
              "      border-bottom-color: var(--fill-color);\n",
              "      border-left-color: var(--fill-color);\n",
              "    }\n",
              "    20% {\n",
              "      border-color: transparent;\n",
              "      border-left-color: var(--fill-color);\n",
              "      border-top-color: var(--fill-color);\n",
              "    }\n",
              "    30% {\n",
              "      border-color: transparent;\n",
              "      border-left-color: var(--fill-color);\n",
              "      border-top-color: var(--fill-color);\n",
              "      border-right-color: var(--fill-color);\n",
              "    }\n",
              "    40% {\n",
              "      border-color: transparent;\n",
              "      border-right-color: var(--fill-color);\n",
              "      border-top-color: var(--fill-color);\n",
              "    }\n",
              "    60% {\n",
              "      border-color: transparent;\n",
              "      border-right-color: var(--fill-color);\n",
              "    }\n",
              "    80% {\n",
              "      border-color: transparent;\n",
              "      border-right-color: var(--fill-color);\n",
              "      border-bottom-color: var(--fill-color);\n",
              "    }\n",
              "    90% {\n",
              "      border-color: transparent;\n",
              "      border-bottom-color: var(--fill-color);\n",
              "    }\n",
              "  }\n",
              "</style>\n",
              "\n",
              "  <script>\n",
              "    async function quickchart(key) {\n",
              "      const quickchartButtonEl =\n",
              "        document.querySelector('#' + key + ' button');\n",
              "      quickchartButtonEl.disabled = true;  // To prevent multiple clicks.\n",
              "      quickchartButtonEl.classList.add('colab-df-spinner');\n",
              "      try {\n",
              "        const charts = await google.colab.kernel.invokeFunction(\n",
              "            'suggestCharts', [key], {});\n",
              "      } catch (error) {\n",
              "        console.error('Error during call to suggestCharts:', error);\n",
              "      }\n",
              "      quickchartButtonEl.classList.remove('colab-df-spinner');\n",
              "      quickchartButtonEl.classList.add('colab-df-quickchart-complete');\n",
              "    }\n",
              "    (() => {\n",
              "      let quickchartButtonEl =\n",
              "        document.querySelector('#df-ec0fd367-e114-483d-92dc-94e43ba7cda2 button');\n",
              "      quickchartButtonEl.style.display =\n",
              "        google.colab.kernel.accessAllowed ? 'block' : 'none';\n",
              "    })();\n",
              "  </script>\n",
              "</div>\n",
              "    </div>\n",
              "  </div>\n"
            ]
          },
          "metadata": {},
          "execution_count": 3
        }
      ]
    },
    {
      "cell_type": "code",
      "source": [
        "df.columns"
      ],
      "metadata": {
        "colab": {
          "base_uri": "https://localhost:8080/"
        },
        "id": "LudVAWTyjLJ9",
        "outputId": "5dd7efd4-15ad-4a33-8136-cdfe4f8f4aa2"
      },
      "execution_count": 4,
      "outputs": [
        {
          "output_type": "execute_result",
          "data": {
            "text/plain": [
              "Index(['Date', 'Open', 'High', 'Low', 'Close', 'Volume', 'OpenInt', 'Stock'], dtype='object')"
            ]
          },
          "metadata": {},
          "execution_count": 4
        }
      ]
    },
    {
      "cell_type": "code",
      "source": [
        "df.isnull().sum()"
      ],
      "metadata": {
        "colab": {
          "base_uri": "https://localhost:8080/"
        },
        "id": "T8kyKFLLjNs4",
        "outputId": "ff41d1f1-1f63-4691-b577-b2b7addedb45"
      },
      "execution_count": 5,
      "outputs": [
        {
          "output_type": "execute_result",
          "data": {
            "text/plain": [
              "Date       0\n",
              "Open       0\n",
              "High       0\n",
              "Low        0\n",
              "Close      0\n",
              "Volume     0\n",
              "OpenInt    0\n",
              "Stock      0\n",
              "dtype: int64"
            ]
          },
          "metadata": {},
          "execution_count": 5
        }
      ]
    },
    {
      "cell_type": "markdown",
      "source": [
        "#Feature scaling\n",
        "\n",
        "Feature scaling is a technique used in data preprocessing that aims to standardize the range of values of the different features (or variables) in a dataset. The purpose of feature scaling is to bring all features onto the same scale so that they can be compared and analyzed more effectively.\n",
        "\n",
        "When features in a dataset have different ranges, some algorithms may give more weight to features with larger scales, which could lead to biased results. Feature scaling solves this issue by transforming the values of each feature into a common range, typically between 0 and 1 or -1 and 1, so that each feature contributes equally to the analysis.\n",
        "\n",
        "Commonly used scaling techniques include Min-Max scaling, Standardization (Z-score normalization), Log transformation, and others.\n",
        "\n",
        "#Below code explanation\n",
        "\n",
        "This code is performing feature scaling on a dataset called df, specifically on the columns 'Open', 'High', 'Low', 'Close' and 'Volume'. Feature scaling is a common technique used to standardize the range of values of features in a dataset.\n",
        "\n",
        "The MinMaxScaler() function is used to scale the values of the 'Open', 'High', 'Low', and 'Close' columns to be within a certain range (usually between 0 and 1). This is done by subtracting the minimum value of the column from each value and then dividing by the range (max value minus min value).\n",
        "\n",
        "The same scaling technique is applied to the 'Volume' column, but with one difference. The .values.reshape(-1,1) method is used to reshape the column values into a 2D array with one column and as many rows as there are values. This is because the fit_transform() method requires a 2D array as input.\n",
        "\n",
        "After scaling, the scaled values are assigned back to the respective columns of df."
      ],
      "metadata": {
        "id": "cB1hD10hjU6y"
      }
    },
    {
      "cell_type": "code",
      "source": [
        "# Data Processing\n",
        "# Feature Scaling\n",
        "\n",
        "scalar = MinMaxScaler()\n",
        "df[['Open','High','Low','Close']] = scalar.fit_transform(df[['Open','High','Low','Close']])\n",
        "df['Volume'] = scalar.fit_transform(df['Volume'].values.reshape(-1,1))"
      ],
      "metadata": {
        "id": "cm8M4UtvjQJf"
      },
      "execution_count": 6,
      "outputs": []
    },
    {
      "cell_type": "code",
      "source": [
        "df['Volume']"
      ],
      "metadata": {
        "colab": {
          "base_uri": "https://localhost:8080/"
        },
        "id": "C_Idcs0cjl97",
        "outputId": "88823059-47a5-4829-8510-22e6eb37162c"
      },
      "execution_count": 7,
      "outputs": [
        {
          "output_type": "execute_result",
          "data": {
            "text/plain": [
              "0        0.011219\n",
              "1        0.008708\n",
              "2        0.020533\n",
              "3        0.017937\n",
              "4        0.027936\n",
              "           ...   \n",
              "19581    0.006414\n",
              "19582    0.006234\n",
              "19583    0.005057\n",
              "19584    0.006089\n",
              "19585    0.005344\n",
              "Name: Volume, Length: 19586, dtype: float64"
            ]
          },
          "metadata": {},
          "execution_count": 7
        }
      ]
    },
    {
      "cell_type": "code",
      "source": [
        "df['Open']"
      ],
      "metadata": {
        "colab": {
          "base_uri": "https://localhost:8080/"
        },
        "id": "QAI1R_-Ujoxv",
        "outputId": "03f6d945-dd9a-446e-ccc7-29d92fc58de1"
      },
      "execution_count": 8,
      "outputs": [
        {
          "output_type": "execute_result",
          "data": {
            "text/plain": [
              "0        0.000923\n",
              "1        0.000923\n",
              "2        0.000926\n",
              "3        0.000936\n",
              "4        0.000962\n",
              "           ...   \n",
              "19581    0.461672\n",
              "19582    0.466689\n",
              "19583    0.464853\n",
              "19584    0.461025\n",
              "19585    0.461129\n",
              "Name: Open, Length: 19586, dtype: float64"
            ]
          },
          "metadata": {},
          "execution_count": 8
        }
      ]
    },
    {
      "cell_type": "code",
      "source": [
        "df['Open'].max()"
      ],
      "metadata": {
        "colab": {
          "base_uri": "https://localhost:8080/"
        },
        "id": "Pk3vzm4vjs23",
        "outputId": "cbcfb16b-a3ed-4095-e68d-326abca527ae"
      },
      "execution_count": 9,
      "outputs": [
        {
          "output_type": "execute_result",
          "data": {
            "text/plain": [
              "1.0"
            ]
          },
          "metadata": {},
          "execution_count": 9
        }
      ]
    },
    {
      "cell_type": "code",
      "source": [
        "df['Open'].min()"
      ],
      "metadata": {
        "colab": {
          "base_uri": "https://localhost:8080/"
        },
        "id": "6sLPK_oRjvBj",
        "outputId": "b77a4dcf-06ac-42af-9a68-7fd685b5d28e"
      },
      "execution_count": 10,
      "outputs": [
        {
          "output_type": "execute_result",
          "data": {
            "text/plain": [
              "0.0"
            ]
          },
          "metadata": {},
          "execution_count": 10
        }
      ]
    },
    {
      "cell_type": "code",
      "source": [
        "df['High']"
      ],
      "metadata": {
        "colab": {
          "base_uri": "https://localhost:8080/"
        },
        "id": "Sw_5p3gojxdb",
        "outputId": "c43698e1-85d2-4b7e-edbe-aaa04f4a6684"
      },
      "execution_count": 11,
      "outputs": [
        {
          "output_type": "execute_result",
          "data": {
            "text/plain": [
              "0        0.000929\n",
              "1        0.000919\n",
              "2        0.000948\n",
              "3        0.000935\n",
              "4        0.000958\n",
              "           ...   \n",
              "19581    0.463063\n",
              "19582    0.463828\n",
              "19583    0.462806\n",
              "19584    0.460367\n",
              "19585    0.459597\n",
              "Name: High, Length: 19586, dtype: float64"
            ]
          },
          "metadata": {},
          "execution_count": 11
        }
      ]
    },
    {
      "cell_type": "code",
      "source": [
        "# Feature Selection\n",
        "\n",
        "X = df[['Open','High','Low','Close']]\n",
        "y = df['Volume']"
      ],
      "metadata": {
        "id": "c5oRBJkZj0HY"
      },
      "execution_count": 18,
      "outputs": []
    },
    {
      "cell_type": "code",
      "source": [
        "X"
      ],
      "metadata": {
        "colab": {
          "base_uri": "https://localhost:8080/",
          "height": 423
        },
        "id": "n6YLg4Gej3Ua",
        "outputId": "9cb96329-c2a3-4db3-c61e-5a6053a56b81"
      },
      "execution_count": 19,
      "outputs": [
        {
          "output_type": "execute_result",
          "data": {
            "text/plain": [
              "           Open      High       Low     Close\n",
              "0      0.000923  0.000929  0.000927  0.000927\n",
              "1      0.000923  0.000919  0.000913  0.000920\n",
              "2      0.000926  0.000948  0.000944  0.000940\n",
              "3      0.000936  0.000935  0.000920  0.000907\n",
              "4      0.000962  0.000958  0.000981  0.000967\n",
              "...         ...       ...       ...       ...\n",
              "19581  0.461672  0.463063  0.469953  0.467881\n",
              "19582  0.466689  0.463828  0.472835  0.468089\n",
              "19583  0.464853  0.462806  0.472062  0.466296\n",
              "19584  0.461025  0.460367  0.466737  0.465621\n",
              "19585  0.461129  0.459597  0.469030  0.463439\n",
              "\n",
              "[19586 rows x 4 columns]"
            ],
            "text/html": [
              "\n",
              "  <div id=\"df-4b380c32-7d46-4d85-b4b2-5b6dfe10eb5f\" class=\"colab-df-container\">\n",
              "    <div>\n",
              "<style scoped>\n",
              "    .dataframe tbody tr th:only-of-type {\n",
              "        vertical-align: middle;\n",
              "    }\n",
              "\n",
              "    .dataframe tbody tr th {\n",
              "        vertical-align: top;\n",
              "    }\n",
              "\n",
              "    .dataframe thead th {\n",
              "        text-align: right;\n",
              "    }\n",
              "</style>\n",
              "<table border=\"1\" class=\"dataframe\">\n",
              "  <thead>\n",
              "    <tr style=\"text-align: right;\">\n",
              "      <th></th>\n",
              "      <th>Open</th>\n",
              "      <th>High</th>\n",
              "      <th>Low</th>\n",
              "      <th>Close</th>\n",
              "    </tr>\n",
              "  </thead>\n",
              "  <tbody>\n",
              "    <tr>\n",
              "      <th>0</th>\n",
              "      <td>0.000923</td>\n",
              "      <td>0.000929</td>\n",
              "      <td>0.000927</td>\n",
              "      <td>0.000927</td>\n",
              "    </tr>\n",
              "    <tr>\n",
              "      <th>1</th>\n",
              "      <td>0.000923</td>\n",
              "      <td>0.000919</td>\n",
              "      <td>0.000913</td>\n",
              "      <td>0.000920</td>\n",
              "    </tr>\n",
              "    <tr>\n",
              "      <th>2</th>\n",
              "      <td>0.000926</td>\n",
              "      <td>0.000948</td>\n",
              "      <td>0.000944</td>\n",
              "      <td>0.000940</td>\n",
              "    </tr>\n",
              "    <tr>\n",
              "      <th>3</th>\n",
              "      <td>0.000936</td>\n",
              "      <td>0.000935</td>\n",
              "      <td>0.000920</td>\n",
              "      <td>0.000907</td>\n",
              "    </tr>\n",
              "    <tr>\n",
              "      <th>4</th>\n",
              "      <td>0.000962</td>\n",
              "      <td>0.000958</td>\n",
              "      <td>0.000981</td>\n",
              "      <td>0.000967</td>\n",
              "    </tr>\n",
              "    <tr>\n",
              "      <th>...</th>\n",
              "      <td>...</td>\n",
              "      <td>...</td>\n",
              "      <td>...</td>\n",
              "      <td>...</td>\n",
              "    </tr>\n",
              "    <tr>\n",
              "      <th>19581</th>\n",
              "      <td>0.461672</td>\n",
              "      <td>0.463063</td>\n",
              "      <td>0.469953</td>\n",
              "      <td>0.467881</td>\n",
              "    </tr>\n",
              "    <tr>\n",
              "      <th>19582</th>\n",
              "      <td>0.466689</td>\n",
              "      <td>0.463828</td>\n",
              "      <td>0.472835</td>\n",
              "      <td>0.468089</td>\n",
              "    </tr>\n",
              "    <tr>\n",
              "      <th>19583</th>\n",
              "      <td>0.464853</td>\n",
              "      <td>0.462806</td>\n",
              "      <td>0.472062</td>\n",
              "      <td>0.466296</td>\n",
              "    </tr>\n",
              "    <tr>\n",
              "      <th>19584</th>\n",
              "      <td>0.461025</td>\n",
              "      <td>0.460367</td>\n",
              "      <td>0.466737</td>\n",
              "      <td>0.465621</td>\n",
              "    </tr>\n",
              "    <tr>\n",
              "      <th>19585</th>\n",
              "      <td>0.461129</td>\n",
              "      <td>0.459597</td>\n",
              "      <td>0.469030</td>\n",
              "      <td>0.463439</td>\n",
              "    </tr>\n",
              "  </tbody>\n",
              "</table>\n",
              "<p>19586 rows × 4 columns</p>\n",
              "</div>\n",
              "    <div class=\"colab-df-buttons\">\n",
              "\n",
              "  <div class=\"colab-df-container\">\n",
              "    <button class=\"colab-df-convert\" onclick=\"convertToInteractive('df-4b380c32-7d46-4d85-b4b2-5b6dfe10eb5f')\"\n",
              "            title=\"Convert this dataframe to an interactive table.\"\n",
              "            style=\"display:none;\">\n",
              "\n",
              "  <svg xmlns=\"http://www.w3.org/2000/svg\" height=\"24px\" viewBox=\"0 -960 960 960\">\n",
              "    <path d=\"M120-120v-720h720v720H120Zm60-500h600v-160H180v160Zm220 220h160v-160H400v160Zm0 220h160v-160H400v160ZM180-400h160v-160H180v160Zm440 0h160v-160H620v160ZM180-180h160v-160H180v160Zm440 0h160v-160H620v160Z\"/>\n",
              "  </svg>\n",
              "    </button>\n",
              "\n",
              "  <style>\n",
              "    .colab-df-container {\n",
              "      display:flex;\n",
              "      gap: 12px;\n",
              "    }\n",
              "\n",
              "    .colab-df-convert {\n",
              "      background-color: #E8F0FE;\n",
              "      border: none;\n",
              "      border-radius: 50%;\n",
              "      cursor: pointer;\n",
              "      display: none;\n",
              "      fill: #1967D2;\n",
              "      height: 32px;\n",
              "      padding: 0 0 0 0;\n",
              "      width: 32px;\n",
              "    }\n",
              "\n",
              "    .colab-df-convert:hover {\n",
              "      background-color: #E2EBFA;\n",
              "      box-shadow: 0px 1px 2px rgba(60, 64, 67, 0.3), 0px 1px 3px 1px rgba(60, 64, 67, 0.15);\n",
              "      fill: #174EA6;\n",
              "    }\n",
              "\n",
              "    .colab-df-buttons div {\n",
              "      margin-bottom: 4px;\n",
              "    }\n",
              "\n",
              "    [theme=dark] .colab-df-convert {\n",
              "      background-color: #3B4455;\n",
              "      fill: #D2E3FC;\n",
              "    }\n",
              "\n",
              "    [theme=dark] .colab-df-convert:hover {\n",
              "      background-color: #434B5C;\n",
              "      box-shadow: 0px 1px 3px 1px rgba(0, 0, 0, 0.15);\n",
              "      filter: drop-shadow(0px 1px 2px rgba(0, 0, 0, 0.3));\n",
              "      fill: #FFFFFF;\n",
              "    }\n",
              "  </style>\n",
              "\n",
              "    <script>\n",
              "      const buttonEl =\n",
              "        document.querySelector('#df-4b380c32-7d46-4d85-b4b2-5b6dfe10eb5f button.colab-df-convert');\n",
              "      buttonEl.style.display =\n",
              "        google.colab.kernel.accessAllowed ? 'block' : 'none';\n",
              "\n",
              "      async function convertToInteractive(key) {\n",
              "        const element = document.querySelector('#df-4b380c32-7d46-4d85-b4b2-5b6dfe10eb5f');\n",
              "        const dataTable =\n",
              "          await google.colab.kernel.invokeFunction('convertToInteractive',\n",
              "                                                    [key], {});\n",
              "        if (!dataTable) return;\n",
              "\n",
              "        const docLinkHtml = 'Like what you see? Visit the ' +\n",
              "          '<a target=\"_blank\" href=https://colab.research.google.com/notebooks/data_table.ipynb>data table notebook</a>'\n",
              "          + ' to learn more about interactive tables.';\n",
              "        element.innerHTML = '';\n",
              "        dataTable['output_type'] = 'display_data';\n",
              "        await google.colab.output.renderOutput(dataTable, element);\n",
              "        const docLink = document.createElement('div');\n",
              "        docLink.innerHTML = docLinkHtml;\n",
              "        element.appendChild(docLink);\n",
              "      }\n",
              "    </script>\n",
              "  </div>\n",
              "\n",
              "\n",
              "<div id=\"df-a4e4b5e9-6ced-4932-bfa9-6a8109e2fa47\">\n",
              "  <button class=\"colab-df-quickchart\" onclick=\"quickchart('df-a4e4b5e9-6ced-4932-bfa9-6a8109e2fa47')\"\n",
              "            title=\"Suggest charts.\"\n",
              "            style=\"display:none;\">\n",
              "\n",
              "<svg xmlns=\"http://www.w3.org/2000/svg\" height=\"24px\"viewBox=\"0 0 24 24\"\n",
              "     width=\"24px\">\n",
              "    <g>\n",
              "        <path d=\"M19 3H5c-1.1 0-2 .9-2 2v14c0 1.1.9 2 2 2h14c1.1 0 2-.9 2-2V5c0-1.1-.9-2-2-2zM9 17H7v-7h2v7zm4 0h-2V7h2v10zm4 0h-2v-4h2v4z\"/>\n",
              "    </g>\n",
              "</svg>\n",
              "  </button>\n",
              "\n",
              "<style>\n",
              "  .colab-df-quickchart {\n",
              "      --bg-color: #E8F0FE;\n",
              "      --fill-color: #1967D2;\n",
              "      --hover-bg-color: #E2EBFA;\n",
              "      --hover-fill-color: #174EA6;\n",
              "      --disabled-fill-color: #AAA;\n",
              "      --disabled-bg-color: #DDD;\n",
              "  }\n",
              "\n",
              "  [theme=dark] .colab-df-quickchart {\n",
              "      --bg-color: #3B4455;\n",
              "      --fill-color: #D2E3FC;\n",
              "      --hover-bg-color: #434B5C;\n",
              "      --hover-fill-color: #FFFFFF;\n",
              "      --disabled-bg-color: #3B4455;\n",
              "      --disabled-fill-color: #666;\n",
              "  }\n",
              "\n",
              "  .colab-df-quickchart {\n",
              "    background-color: var(--bg-color);\n",
              "    border: none;\n",
              "    border-radius: 50%;\n",
              "    cursor: pointer;\n",
              "    display: none;\n",
              "    fill: var(--fill-color);\n",
              "    height: 32px;\n",
              "    padding: 0;\n",
              "    width: 32px;\n",
              "  }\n",
              "\n",
              "  .colab-df-quickchart:hover {\n",
              "    background-color: var(--hover-bg-color);\n",
              "    box-shadow: 0 1px 2px rgba(60, 64, 67, 0.3), 0 1px 3px 1px rgba(60, 64, 67, 0.15);\n",
              "    fill: var(--button-hover-fill-color);\n",
              "  }\n",
              "\n",
              "  .colab-df-quickchart-complete:disabled,\n",
              "  .colab-df-quickchart-complete:disabled:hover {\n",
              "    background-color: var(--disabled-bg-color);\n",
              "    fill: var(--disabled-fill-color);\n",
              "    box-shadow: none;\n",
              "  }\n",
              "\n",
              "  .colab-df-spinner {\n",
              "    border: 2px solid var(--fill-color);\n",
              "    border-color: transparent;\n",
              "    border-bottom-color: var(--fill-color);\n",
              "    animation:\n",
              "      spin 1s steps(1) infinite;\n",
              "  }\n",
              "\n",
              "  @keyframes spin {\n",
              "    0% {\n",
              "      border-color: transparent;\n",
              "      border-bottom-color: var(--fill-color);\n",
              "      border-left-color: var(--fill-color);\n",
              "    }\n",
              "    20% {\n",
              "      border-color: transparent;\n",
              "      border-left-color: var(--fill-color);\n",
              "      border-top-color: var(--fill-color);\n",
              "    }\n",
              "    30% {\n",
              "      border-color: transparent;\n",
              "      border-left-color: var(--fill-color);\n",
              "      border-top-color: var(--fill-color);\n",
              "      border-right-color: var(--fill-color);\n",
              "    }\n",
              "    40% {\n",
              "      border-color: transparent;\n",
              "      border-right-color: var(--fill-color);\n",
              "      border-top-color: var(--fill-color);\n",
              "    }\n",
              "    60% {\n",
              "      border-color: transparent;\n",
              "      border-right-color: var(--fill-color);\n",
              "    }\n",
              "    80% {\n",
              "      border-color: transparent;\n",
              "      border-right-color: var(--fill-color);\n",
              "      border-bottom-color: var(--fill-color);\n",
              "    }\n",
              "    90% {\n",
              "      border-color: transparent;\n",
              "      border-bottom-color: var(--fill-color);\n",
              "    }\n",
              "  }\n",
              "</style>\n",
              "\n",
              "  <script>\n",
              "    async function quickchart(key) {\n",
              "      const quickchartButtonEl =\n",
              "        document.querySelector('#' + key + ' button');\n",
              "      quickchartButtonEl.disabled = true;  // To prevent multiple clicks.\n",
              "      quickchartButtonEl.classList.add('colab-df-spinner');\n",
              "      try {\n",
              "        const charts = await google.colab.kernel.invokeFunction(\n",
              "            'suggestCharts', [key], {});\n",
              "      } catch (error) {\n",
              "        console.error('Error during call to suggestCharts:', error);\n",
              "      }\n",
              "      quickchartButtonEl.classList.remove('colab-df-spinner');\n",
              "      quickchartButtonEl.classList.add('colab-df-quickchart-complete');\n",
              "    }\n",
              "    (() => {\n",
              "      let quickchartButtonEl =\n",
              "        document.querySelector('#df-a4e4b5e9-6ced-4932-bfa9-6a8109e2fa47 button');\n",
              "      quickchartButtonEl.style.display =\n",
              "        google.colab.kernel.accessAllowed ? 'block' : 'none';\n",
              "    })();\n",
              "  </script>\n",
              "</div>\n",
              "    </div>\n",
              "  </div>\n"
            ]
          },
          "metadata": {},
          "execution_count": 19
        }
      ]
    },
    {
      "cell_type": "code",
      "source": [
        "y"
      ],
      "metadata": {
        "colab": {
          "base_uri": "https://localhost:8080/"
        },
        "id": "Ex96vV2kj6Kr",
        "outputId": "05c99b04-ed5e-4764-8a3d-04eb4046d8ba"
      },
      "execution_count": 20,
      "outputs": [
        {
          "output_type": "execute_result",
          "data": {
            "text/plain": [
              "0        0.011219\n",
              "1        0.008708\n",
              "2        0.020533\n",
              "3        0.017937\n",
              "4        0.027936\n",
              "           ...   \n",
              "19581    0.006414\n",
              "19582    0.006234\n",
              "19583    0.005057\n",
              "19584    0.006089\n",
              "19585    0.005344\n",
              "Name: Volume, Length: 19586, dtype: float64"
            ]
          },
          "metadata": {},
          "execution_count": 20
        }
      ]
    },
    {
      "cell_type": "code",
      "source": [
        "# Splitting the data into training and Testing\n",
        "\n",
        "from sklearn.model_selection import train_test_split\n",
        "\n",
        "X_train, X_test, y_train, y_test = train_test_split(X, y, test_size=0.2, random_state=42)"
      ],
      "metadata": {
        "id": "Jer1Mfezj8j5"
      },
      "execution_count": 21,
      "outputs": []
    },
    {
      "cell_type": "code",
      "source": [
        "X_train.count()"
      ],
      "metadata": {
        "colab": {
          "base_uri": "https://localhost:8080/"
        },
        "id": "bWr_y1vAkVhA",
        "outputId": "4963d336-9558-43ad-dcd0-305e477d2897"
      },
      "execution_count": 22,
      "outputs": [
        {
          "output_type": "execute_result",
          "data": {
            "text/plain": [
              "Open     15668\n",
              "High     15668\n",
              "Low      15668\n",
              "Close    15668\n",
              "dtype: int64"
            ]
          },
          "metadata": {},
          "execution_count": 22
        }
      ]
    },
    {
      "cell_type": "code",
      "source": [
        "X_test.count()"
      ],
      "metadata": {
        "colab": {
          "base_uri": "https://localhost:8080/"
        },
        "id": "8NnDC5vEkXcq",
        "outputId": "0706b032-c7df-4f8e-e39e-0c35a8d93298"
      },
      "execution_count": 23,
      "outputs": [
        {
          "output_type": "execute_result",
          "data": {
            "text/plain": [
              "Open     3918\n",
              "High     3918\n",
              "Low      3918\n",
              "Close    3918\n",
              "dtype: int64"
            ]
          },
          "metadata": {},
          "execution_count": 23
        }
      ]
    },
    {
      "cell_type": "code",
      "source": [
        "y_train.count()"
      ],
      "metadata": {
        "colab": {
          "base_uri": "https://localhost:8080/"
        },
        "id": "X8A_6ucokZcW",
        "outputId": "43163439-3ffb-41ee-8beb-e8167589ccb1"
      },
      "execution_count": 24,
      "outputs": [
        {
          "output_type": "execute_result",
          "data": {
            "text/plain": [
              "15668"
            ]
          },
          "metadata": {},
          "execution_count": 24
        }
      ]
    },
    {
      "cell_type": "code",
      "source": [
        "y_test.count()"
      ],
      "metadata": {
        "colab": {
          "base_uri": "https://localhost:8080/"
        },
        "id": "Y1rucLwrkbxY",
        "outputId": "f6a27976-a1fc-4253-f3e8-d537c38f9a25"
      },
      "execution_count": 25,
      "outputs": [
        {
          "output_type": "execute_result",
          "data": {
            "text/plain": [
              "3918"
            ]
          },
          "metadata": {},
          "execution_count": 25
        }
      ]
    },
    {
      "cell_type": "markdown",
      "source": [
        "##LSTM\n",
        "\n",
        "An LSTM (Long Short-Term Memory) model is a type of recurrent neural network (RNN) that is designed to handle sequential data, such as time-series or text data.\n",
        "\n",
        "At its core, an LSTM model consists of a series of memory cells that can store information for an extended period of time. These memory cells are connected by a network of gates that regulate the flow of information into and out of the cells.\n",
        "\n",
        "Each gate is composed of a sigmoid activation function and a point-wise multiplication operation. The sigmoid function acts as a switch that controls the flow of information, while the multiplication operation scales the input data.\n",
        "\n",
        "There are three main types of gates in an LSTM model:\n",
        "\n",
        "The forget gate, which determines what information to discard from the cell.\n",
        "The input gate, which decides what new information to store in the cell.\n",
        "The output gate, which determines what information to output from the cell.\n",
        "The LSTM model is trained using a process called backpropagation through time (BPTT), which adjusts the weights of the gates based on the error between the predicted output and the actual output.\n",
        "\n",
        "Overall, the LSTM model is a powerful tool for handling sequential data due to its ability to selectively store and retrieve information over long periods of time. It has been successfully applied to a wide range of tasks, including speech recognition, language translation, and time-series forecasting.\n",
        "\n",
        "##Is it mandatory to convert our data into 3D\n",
        "\n",
        "\n",
        "Yes, it is mandatory to format the data as a 3D tensor for input to an LSTM model.\n",
        "\n",
        "The reason for this is that an LSTM model is designed to handle sequential data, which is inherently three-dimensional. In other words, the input to an LSTM model should be a three-dimensional tensor with shape (batch_size, time_steps, num_features).\n",
        "\n",
        "batch_size: This is the number of samples in each batch of data.\n",
        "time_steps: This is the number of time steps in each sample, representing the sequence length.\n",
        "num_features: This is the number of features (or variables) in each time step.\n",
        "For example, if you are using an LSTM model to forecast stock prices, batch_size would be the number of companies you are forecasting for, time_steps would be the number of days in the forecast horizon, and num_features would be the number of input variables (such as opening price, closing price, volume, etc.) for each day.\n",
        "\n",
        "The data needs to be reshaped into this format before being fed into the LSTM model, typically using the reshape() function in NumPy or the reshape() method in TensorFlow or Keras."
      ],
      "metadata": {
        "id": "QwcoQEuCkidU"
      }
    },
    {
      "cell_type": "code",
      "source": [
        "# Reshape data to be 3D for LSTM model\n",
        "\n",
        "from keras.layers import  LSTM\n",
        "\n",
        "X_train = np.reshape(X_train.values,(X_train.shape[0],X_train.shape[1],1))\n",
        "\n",
        "X_test = np.reshape(X_test.values,(X_test.shape[0],X_test.shape[1],1))"
      ],
      "metadata": {
        "id": "G_zbO0z1keAj"
      },
      "execution_count": 26,
      "outputs": []
    },
    {
      "cell_type": "code",
      "source": [
        "X_train"
      ],
      "metadata": {
        "colab": {
          "base_uri": "https://localhost:8080/"
        },
        "id": "2I0ayt-6kxmG",
        "outputId": "25faa51d-9f4a-47cd-f2f9-036002aa8131"
      },
      "execution_count": 27,
      "outputs": [
        {
          "output_type": "execute_result",
          "data": {
            "text/plain": [
              "array([[[0.00334357],\n",
              "        [0.00334161],\n",
              "        [0.00334689],\n",
              "        [0.00335825]],\n",
              "\n",
              "       [[0.00071056],\n",
              "        [0.00070524],\n",
              "        [0.00069398],\n",
              "        [0.00069043]],\n",
              "\n",
              "       [[0.01420661],\n",
              "        [0.01412168],\n",
              "        [0.01392884],\n",
              "        [0.01381124]],\n",
              "\n",
              "       ...,\n",
              "\n",
              "       [[0.02504974],\n",
              "        [0.02598379],\n",
              "        [0.02547948],\n",
              "        [0.0256637 ]],\n",
              "\n",
              "       [[0.00326468],\n",
              "        [0.00326922],\n",
              "        [0.00323958],\n",
              "        [0.00325511]],\n",
              "\n",
              "       [[0.06532931],\n",
              "        [0.06569702],\n",
              "        [0.06641517],\n",
              "        [0.06609154]]])"
            ]
          },
          "metadata": {},
          "execution_count": 27
        }
      ]
    },
    {
      "cell_type": "markdown",
      "source": [
        "#Define LSTM model architecture\n",
        "\n",
        "\n",
        "LSTM model architecture refers to the structure and design of a Long Short-Term Memory (LSTM) neural network that is used to analyze sequential data, such as time-series or text data.\n",
        "\n",
        "The LSTM model consists of a series of memory cells that can store information for an extended period of time. These memory cells are connected by a network of gates that regulate the flow of information into and out of the cells.\n",
        "\n",
        "The LSTM model architecture typically includes the following components:\n",
        "\n",
        "Input layer: This layer receives the input data and passes it on to the next layer.\n",
        "\n",
        "LSTM layer: This layer consists of a series of memory cells connected by gates. The LSTM layer processes the input data sequentially, storing and retrieving information as needed.\n",
        "\n",
        "Output layer: This layer produces the output of the model, which can be a single value (for regression tasks) or a set of probabilities (for classification tasks).\n",
        "\n",
        "Activation functions: The LSTM model typically includes activation functions, such as sigmoid and tanh, that are used to regulate the flow of information through the gates and memory cells.\n",
        "\n",
        "Loss function: This function measures the error between the predicted output and the actual output, and is used to guide the training of the model.\n",
        "\n",
        "Optimization algorithm: This algorithm is used to minimize the loss function and adjust the weights of the model during training.\n",
        "\n",
        "The specific architecture of an LSTM model can vary depending on the task and the data being analyzed. However, the core components described above are common to most LSTM models"
      ],
      "metadata": {
        "id": "yUvi2PzQk7gH"
      }
    },
    {
      "cell_type": "code",
      "source": [
        "# Define LSTM model architecture\n",
        "\n",
        "from keras.models import Sequential\n",
        "from keras.layers import Dense\n",
        "\n",
        "model = Sequential()\n",
        "model.add(LSTM(units=50, return_sequences=True, input_shape=(X_train.shape[1], 1)))\n",
        "model.add(LSTM(units=50))\n",
        "model.add(Dense(1))"
      ],
      "metadata": {
        "id": "zO6yNJXbk0OA"
      },
      "execution_count": 29,
      "outputs": []
    },
    {
      "cell_type": "code",
      "source": [
        "# Compile the model\n",
        "\n",
        "from sklearn.metrics import mean_squared_error\n",
        "\n",
        "model.compile(loss='mean_squared_error',optimizer = 'adam')"
      ],
      "metadata": {
        "id": "jxSphJ3bk5E5"
      },
      "execution_count": 30,
      "outputs": []
    },
    {
      "cell_type": "code",
      "source": [
        "# Train the model\n",
        "\n",
        "Train_Model = model.fit(X_train,y_train,epochs=60,batch_size=32,validation_data=(X_test,y_test))"
      ],
      "metadata": {
        "colab": {
          "base_uri": "https://localhost:8080/"
        },
        "id": "VvMbNa5_lLQz",
        "outputId": "a4e983ac-ee31-41fb-dcc8-179c7a702978"
      },
      "execution_count": 31,
      "outputs": [
        {
          "output_type": "stream",
          "name": "stdout",
          "text": [
            "Epoch 1/60\n",
            "490/490 [==============================] - 13s 11ms/step - loss: 0.0014 - val_loss: 0.0014\n",
            "Epoch 2/60\n",
            "490/490 [==============================] - 6s 12ms/step - loss: 0.0014 - val_loss: 0.0014\n",
            "Epoch 3/60\n",
            "490/490 [==============================] - 3s 7ms/step - loss: 0.0014 - val_loss: 0.0014\n",
            "Epoch 4/60\n",
            "490/490 [==============================] - 4s 9ms/step - loss: 0.0014 - val_loss: 0.0014\n",
            "Epoch 5/60\n",
            "490/490 [==============================] - 3s 7ms/step - loss: 0.0014 - val_loss: 0.0014\n",
            "Epoch 6/60\n",
            "490/490 [==============================] - 6s 12ms/step - loss: 0.0014 - val_loss: 0.0014\n",
            "Epoch 7/60\n",
            "490/490 [==============================] - 6s 12ms/step - loss: 0.0014 - val_loss: 0.0014\n",
            "Epoch 8/60\n",
            "490/490 [==============================] - 5s 11ms/step - loss: 0.0013 - val_loss: 0.0014\n",
            "Epoch 9/60\n",
            "490/490 [==============================] - 4s 9ms/step - loss: 0.0014 - val_loss: 0.0014\n",
            "Epoch 10/60\n",
            "490/490 [==============================] - 3s 7ms/step - loss: 0.0014 - val_loss: 0.0014\n",
            "Epoch 11/60\n",
            "490/490 [==============================] - 3s 7ms/step - loss: 0.0013 - val_loss: 0.0014\n",
            "Epoch 12/60\n",
            "490/490 [==============================] - 4s 7ms/step - loss: 0.0013 - val_loss: 0.0014\n",
            "Epoch 13/60\n",
            "490/490 [==============================] - 4s 8ms/step - loss: 0.0013 - val_loss: 0.0014\n",
            "Epoch 14/60\n",
            "490/490 [==============================] - 4s 7ms/step - loss: 0.0013 - val_loss: 0.0014\n",
            "Epoch 15/60\n",
            "490/490 [==============================] - 4s 8ms/step - loss: 0.0013 - val_loss: 0.0014\n",
            "Epoch 16/60\n",
            "490/490 [==============================] - 4s 9ms/step - loss: 0.0013 - val_loss: 0.0014\n",
            "Epoch 17/60\n",
            "490/490 [==============================] - 4s 9ms/step - loss: 0.0013 - val_loss: 0.0014\n",
            "Epoch 18/60\n",
            "490/490 [==============================] - 3s 7ms/step - loss: 0.0013 - val_loss: 0.0014\n",
            "Epoch 19/60\n",
            "490/490 [==============================] - 4s 9ms/step - loss: 0.0013 - val_loss: 0.0014\n",
            "Epoch 20/60\n",
            "490/490 [==============================] - 3s 7ms/step - loss: 0.0013 - val_loss: 0.0014\n",
            "Epoch 21/60\n",
            "490/490 [==============================] - 3s 7ms/step - loss: 0.0013 - val_loss: 0.0014\n",
            "Epoch 22/60\n",
            "490/490 [==============================] - 4s 8ms/step - loss: 0.0013 - val_loss: 0.0014\n",
            "Epoch 23/60\n",
            "490/490 [==============================] - 4s 8ms/step - loss: 0.0013 - val_loss: 0.0014\n",
            "Epoch 24/60\n",
            "490/490 [==============================] - 5s 9ms/step - loss: 0.0013 - val_loss: 0.0014\n",
            "Epoch 25/60\n",
            "490/490 [==============================] - 4s 8ms/step - loss: 0.0013 - val_loss: 0.0014\n",
            "Epoch 26/60\n",
            "490/490 [==============================] - 4s 8ms/step - loss: 0.0013 - val_loss: 0.0014\n",
            "Epoch 27/60\n",
            "490/490 [==============================] - 3s 7ms/step - loss: 0.0013 - val_loss: 0.0014\n",
            "Epoch 28/60\n",
            "490/490 [==============================] - 4s 7ms/step - loss: 0.0013 - val_loss: 0.0014\n",
            "Epoch 29/60\n",
            "490/490 [==============================] - 4s 9ms/step - loss: 0.0012 - val_loss: 0.0012\n",
            "Epoch 30/60\n",
            "490/490 [==============================] - 3s 7ms/step - loss: 0.0012 - val_loss: 0.0012\n",
            "Epoch 31/60\n",
            "490/490 [==============================] - 3s 7ms/step - loss: 0.0012 - val_loss: 0.0012\n",
            "Epoch 32/60\n",
            "490/490 [==============================] - 4s 8ms/step - loss: 0.0012 - val_loss: 0.0012\n",
            "Epoch 33/60\n",
            "490/490 [==============================] - 4s 7ms/step - loss: 0.0012 - val_loss: 0.0012\n",
            "Epoch 34/60\n",
            "490/490 [==============================] - 3s 7ms/step - loss: 0.0012 - val_loss: 0.0012\n",
            "Epoch 35/60\n",
            "490/490 [==============================] - 3s 7ms/step - loss: 0.0012 - val_loss: 0.0012\n",
            "Epoch 36/60\n",
            "490/490 [==============================] - 4s 9ms/step - loss: 0.0012 - val_loss: 0.0012\n",
            "Epoch 37/60\n",
            "490/490 [==============================] - 4s 8ms/step - loss: 0.0012 - val_loss: 0.0013\n",
            "Epoch 38/60\n",
            "490/490 [==============================] - 3s 7ms/step - loss: 0.0012 - val_loss: 0.0013\n",
            "Epoch 39/60\n",
            "490/490 [==============================] - 5s 9ms/step - loss: 0.0012 - val_loss: 0.0012\n",
            "Epoch 40/60\n",
            "490/490 [==============================] - 3s 6ms/step - loss: 0.0012 - val_loss: 0.0012\n",
            "Epoch 41/60\n",
            "490/490 [==============================] - 3s 7ms/step - loss: 0.0012 - val_loss: 0.0012\n",
            "Epoch 42/60\n",
            "490/490 [==============================] - 4s 8ms/step - loss: 0.0012 - val_loss: 0.0012\n",
            "Epoch 43/60\n",
            "490/490 [==============================] - 4s 8ms/step - loss: 0.0012 - val_loss: 0.0012\n",
            "Epoch 44/60\n",
            "490/490 [==============================] - 3s 7ms/step - loss: 0.0012 - val_loss: 0.0012\n",
            "Epoch 45/60\n",
            "490/490 [==============================] - 4s 8ms/step - loss: 0.0012 - val_loss: 0.0013\n",
            "Epoch 46/60\n",
            "490/490 [==============================] - 5s 9ms/step - loss: 0.0012 - val_loss: 0.0012\n",
            "Epoch 47/60\n",
            "490/490 [==============================] - 3s 7ms/step - loss: 0.0012 - val_loss: 0.0012\n",
            "Epoch 48/60\n",
            "490/490 [==============================] - 4s 7ms/step - loss: 0.0012 - val_loss: 0.0012\n",
            "Epoch 49/60\n",
            "490/490 [==============================] - 5s 10ms/step - loss: 0.0012 - val_loss: 0.0012\n",
            "Epoch 50/60\n",
            "490/490 [==============================] - 3s 7ms/step - loss: 0.0012 - val_loss: 0.0012\n",
            "Epoch 51/60\n",
            "490/490 [==============================] - 4s 8ms/step - loss: 0.0012 - val_loss: 0.0012\n",
            "Epoch 52/60\n",
            "490/490 [==============================] - 4s 8ms/step - loss: 0.0012 - val_loss: 0.0012\n",
            "Epoch 53/60\n",
            "490/490 [==============================] - 4s 8ms/step - loss: 0.0012 - val_loss: 0.0012\n",
            "Epoch 54/60\n",
            "490/490 [==============================] - 3s 7ms/step - loss: 0.0012 - val_loss: 0.0012\n",
            "Epoch 55/60\n",
            "490/490 [==============================] - 3s 7ms/step - loss: 0.0012 - val_loss: 0.0012\n",
            "Epoch 56/60\n",
            "490/490 [==============================] - 5s 9ms/step - loss: 0.0012 - val_loss: 0.0012\n",
            "Epoch 57/60\n",
            "490/490 [==============================] - 3s 7ms/step - loss: 0.0012 - val_loss: 0.0012\n",
            "Epoch 58/60\n",
            "490/490 [==============================] - 3s 7ms/step - loss: 0.0012 - val_loss: 0.0012\n",
            "Epoch 59/60\n",
            "490/490 [==============================] - 4s 8ms/step - loss: 0.0012 - val_loss: 0.0012\n",
            "Epoch 60/60\n",
            "490/490 [==============================] - 5s 10ms/step - loss: 0.0012 - val_loss: 0.0012\n"
          ]
        }
      ]
    },
    {
      "cell_type": "code",
      "source": [
        "# Evaluation of the model\n",
        "\n",
        "y_pred = model.predict(X_test)\n",
        "\n",
        "rmse = np.sqrt(mean_squared_error(y_test,y_pred))\n",
        "print(\"Root_Mean_Squared_Error is :\",rmse)"
      ],
      "metadata": {
        "colab": {
          "base_uri": "https://localhost:8080/"
        },
        "id": "68-7M-NdlO4S",
        "outputId": "59212390-540a-4e43-c7c6-21fc40d16356"
      },
      "execution_count": 32,
      "outputs": [
        {
          "output_type": "stream",
          "name": "stdout",
          "text": [
            "123/123 [==============================] - 1s 2ms/step\n",
            "Root_Mean_Squared_Error is : 0.03485418983548809\n"
          ]
        }
      ]
    },
    {
      "cell_type": "code",
      "source": [
        "# Visualize training and validation loss\n",
        "\n",
        "\n",
        "plt.plot(Train_Model.history['loss'],label='Training LOSS' )\n",
        "plt.plot(Train_Model.history['val_loss'],label='Validation LOSS' )\n",
        "plt.legend()\n",
        "plt.show()"
      ],
      "metadata": {
        "colab": {
          "base_uri": "https://localhost:8080/",
          "height": 430
        },
        "id": "Bk0xDaGZlSsm",
        "outputId": "07fb9f05-1096-4bb3-da5b-55ee1598b4bd"
      },
      "execution_count": 33,
      "outputs": [
        {
          "output_type": "display_data",
          "data": {
            "text/plain": [
              "<Figure size 640x480 with 1 Axes>"
            ],
            "image/png": "[encoded data removed]"
          },
          "metadata": {}
        }
      ]
    },
    {
      "cell_type": "code",
      "source": [
        "# Visualize actual vs predicted stock prices\n",
        "\n",
        "plt.plot(y_test.values, color='red', label='Actual Stock Price')\n",
        "plt.plot(y_pred, color='blue', label='Predicted Stock Price')\n",
        "plt.legend()\n",
        "plt.show()"
      ],
      "metadata": {
        "colab": {
          "base_uri": "https://localhost:8080/",
          "height": 430
        },
        "id": "A80fFdnUlYtL",
        "outputId": "e2c0442b-867d-431c-a952-640c58029f61"
      },
      "execution_count": 34,
      "outputs": [
        {
          "output_type": "display_data",
          "data": {
            "text/plain": [
              "<Figure size 640x480 with 1 Axes>"
            ],
            "image/png": "[encoded data removed]"
          },
          "metadata": {}
        }
      ]
    },
    {
      "cell_type": "code",
      "source": [],
      "metadata": {
        "id": "hy8VVDX1lZZh"
      },
      "execution_count": null,
      "outputs": []
    }
  ]
}